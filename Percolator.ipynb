{
 "cells": [
  {
   "cell_type": "markdown",
   "metadata": {},
   "source": [
    "# Percolation\n",
    "\n",
    "This is based on the first programming assignment from the Coursera course \"Algoithms 1\"\n",
    "\n",
    "Percolation is a the problem of determining whether there is a path from the bottom to the top of a grid, given that cells are randomly either \"closed\" or, \"open\". The grid percolates if there is a path of connected open grid points from the bottom to the top.\n",
    "\n",
    "The goal is the estimate the number of open grid sites are needed to allow a system to percolate. This can be done by randomly opening a grid site, and checking if the system percolates. I'll be using a UnionFind algorithm to tell if the system percolates. All of the cells at the top will be connected to one cell, and all of the cells in the bottom row will be connected to another cell. When the top and bottom cell are connected the cell percolates."
   ]
  },
  {
   "cell_type": "code",
   "execution_count": 125,
   "metadata": {
    "scrolled": true
   },
   "outputs": [
    {
     "name": "stdout",
     "output_type": "stream",
     "text": [
      "3.34080808687\n"
     ]
    }
   ],
   "source": [
    "import random\n",
    "counter = 0\n",
    "from timeit import default_timer as timer\n",
    "#initialize the initial completely closed grid\n",
    "def grid_init(n):\n",
    "    grid = [1]*n**2\n",
    "    return grid\n",
    "\n",
    "def open_site(row, col, n):\n",
    "    if is_open(row, col, n) == False:\n",
    "        grid[n*row+col] = 0\n",
    " \n",
    "\n",
    "    if is_open(row+1, col, n) == True:\n",
    "        if row == n :\n",
    "            pass\n",
    "        else:\n",
    "            union(row, col, row+1, col, n)\n",
    "    if is_open(row-1, col, n) == True:\n",
    "        if row ==0:\n",
    "            pass\n",
    "        else:\n",
    "            union(row, col, row-1, col, n)\n",
    "    \n",
    "    if is_open(row, col+1, n) == True:\n",
    "        if col == n:\n",
    "            pass\n",
    "        else:\n",
    "            union(row, col, row, col+1, n)\n",
    "    \n",
    "    if is_open(row, col-1, n) == True:\n",
    "        if col == 0:\n",
    "            pass\n",
    "        else:\n",
    "            union(row, col, row, col-1, n)\n",
    "#     if row==0:\n",
    "#         if col==0:\n",
    "#             if grid[1] == 0:\n",
    "#                 union(0, 0, 0, 1, n)\n",
    "#         elif col==n:\n",
    "#             if grid[n-1] == 0:\n",
    "#                 union(0, n, 0, n-1, n)\n",
    "#         else:\n",
    "#             union(0, col, 0, col-1, n)\n",
    "#             union(0, col, 0, col+1, n)\n",
    "#         return\n",
    "#     if row==n:\n",
    "#         if col ==0:\n",
    "#             if \n",
    "\n",
    "    \n",
    "def is_open(row, col, n):\n",
    "    if row == n:\n",
    "        return False\n",
    "    if row == -1:\n",
    "        return False\n",
    "    if n*row+col ==n**2:\n",
    "        return False\n",
    "    if col ==-1:\n",
    "        return False\n",
    "    if col == n:\n",
    "        return False\n",
    "    i = n*row+col\n",
    "    if grid[i] == 0:\n",
    "        return True\n",
    "    else:\n",
    "        return False\n",
    "\n",
    "def is_full (row, col, n):\n",
    "    return grid[n*row+col] == 1\n",
    "\n",
    "def grid_id_init(n):\n",
    "    grid_id = range(n**2+2)\n",
    "    for i in range(n):\n",
    "        grid_id[i] = n**2\n",
    "    for i in range(n**2-n, n**2):\n",
    "        grid_id[i] = n**2+1\n",
    "    return grid_id\n",
    "\n",
    "def sz_init(n):\n",
    "    sz = [1]*n**2\n",
    "    sz.append(1)\n",
    "    sz.append(1)\n",
    "    for i in range(n):\n",
    "        sz[i] = 2\n",
    "    for i in range (n**2-n, n**2):\n",
    "        sz[i] = 2\n",
    "    return sz\n",
    "#site = n*row +col, root may have to check the root of the extra spots at the top and bottom, sites n**2+1 and n**2+2\n",
    "def root(site):\n",
    "#     if grid_id[site] == site:\n",
    "#         return site\n",
    "#     else:\n",
    "#         x = grid_id[site]\n",
    "#         root(x)\n",
    "    while site != grid_id[site]:\n",
    "        site = grid_id[site]\n",
    "\n",
    "    return site\n",
    "        \n",
    "def union(row1, col1, row2, col2, n):\n",
    "\n",
    "    \n",
    "    if root(row1*n+col1) == root(row2*n+col2):\n",
    "\n",
    "\n",
    "        return True\n",
    "    if sz[row1*n+col1]<sz[row2*n+col2]:\n",
    "        grid_id[root(row1*n+col1)] = root(row2*n+col2)\n",
    "        sz[row2*n+col2]+= sz[row1*n+col1]\n",
    "        return\n",
    "    else:\n",
    "        \n",
    "        grid_id[root(row2*n+col2)] = root(row1*n+col1)\n",
    "        sz[row1*n+col1]+= sz[row2*n+col2]\n",
    "#         return\n",
    "#     i = root(row2*n+col2)\n",
    "#     grid_id[i] = root(row1*n+col1)\n",
    "#     print row1, col1, row2, col\n",
    "#     print \"root(row2*n+col2) = \", grid_id[root(row2*n+col2)]\n",
    "#     print \"root(row1*n+col1) = \", root(row1*n+col1)\n",
    "#     print \"got here\"\n",
    "    \n",
    "\n",
    "    \n",
    "    \n",
    "    \n",
    "\n",
    "        \n",
    "def does_percolate(n):\n",
    "    return root((n**2)) == root(n**2+1)\n",
    "    \n",
    "\n",
    "\n",
    "n = 400\n",
    "grid = grid_init(n)\n",
    "grid_id = grid_id_init(n)\n",
    "sz = sz_init(n)\n",
    "\n",
    "sz\n",
    "start = timer()\n",
    "while does_percolate(n) == False :\n",
    "#     print counter\n",
    "#     counter += 1\n",
    "    row = random.randint(0, n-1)\n",
    "    col = random.randint(0, n-1)\n",
    "#     print grid_id\n",
    "#     print grid\n",
    "#     print row, col\n",
    "\n",
    "    open_site(row, col, n)\n",
    "#     print grid\n",
    "end = timer()\n",
    "\n",
    "print end - start\n",
    "\n",
    "#     print grid_id\n"
   ]
  },
  {
   "cell_type": "code",
   "execution_count": 122,
   "metadata": {},
   "outputs": [
    {
     "name": "stdout",
     "output_type": "stream",
     "text": [
      "0.59465625\n"
     ]
    }
   ],
   "source": [
    "\n",
    "print 1 - float(sum(grid))/len(grid)"
   ]
  },
  {
   "cell_type": "code",
   "execution_count": 124,
   "metadata": {},
   "outputs": [
    {
     "name": "stdout",
     "output_type": "stream",
     "text": [
      "8\n"
     ]
    }
   ],
   "source": [
    "print max(sz)\n"
   ]
  },
  {
   "cell_type": "code",
   "execution_count": null,
   "metadata": {
    "collapsed": true
   },
   "outputs": [],
   "source": []
  }
 ],
 "metadata": {
  "kernelspec": {
   "display_name": "Python 2",
   "language": "python",
   "name": "python2"
  },
  "language_info": {
   "codemirror_mode": {
    "name": "ipython",
    "version": 2
   },
   "file_extension": ".py",
   "mimetype": "text/x-python",
   "name": "python",
   "nbconvert_exporter": "python",
   "pygments_lexer": "ipython2",
   "version": "2.7.14"
  }
 },
 "nbformat": 4,
 "nbformat_minor": 2
}
