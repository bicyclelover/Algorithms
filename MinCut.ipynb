{
 "cells": [
  {
   "cell_type": "markdown",
   "metadata": {},
   "source": [
    "# Algorithms Assignment 3\n",
    "\n",
    "## Min cut algorithm\n",
    "\n",
    "The object of this assignment is to calculate the minimum number of cuts to create 2 distinct groups from a given graph. This is to be done using the random contraction algorithm. The random contraction algorithm works by randomly selecting an edge, and \"fusing\" the verticies that it connected. Fusing the verticies amounts to deleting one of them, while adding the edges that were connected to it to the remaining vertex. After fusing the verticies any self looping edges are deleted. When there are two remaining verticies the remaining edges define a cut.\n",
    "\n",
    "By randomly selecting edges to contract on there is only ~1/n^2 chance that a minimum cut is chosen, however since computers are great, you can run the algorithm multiple times to increase the liklihood of finding a minimum cut.\n"
   ]
  },
  {
   "cell_type": "code",
   "execution_count": 109,
   "metadata": {},
   "outputs": [],
   "source": [
    "#reads in the file as a list of lists, deletes the last element of each list which is a \"\\n\" character \n",
    "#and then converts all the elements to integers\n",
    "import random\n",
    "def opengraph():\n",
    "    graph = []\n",
    "    with open(\"C:/Users/user/Documents/Algorithms/kargerMinCut.txt\") as j:\n",
    "        for line in j:\n",
    "            graph.append(line.split('\\t'))\n",
    "\n",
    "    for item in graph:\n",
    "        del(item[-1])\n",
    "\n",
    "    for i in range(len(graph)):\n",
    "        for j in range(len(graph[i])):\n",
    "            graph[i][j] = int(graph[i][j])\n",
    "    verticies = []:\n",
    "    for item in graph:\n",
    "        verticies.append(item[0])\n",
    "        del(item[0])\n",
    "    edges = graph\n",
    "    return edges, verticies\n",
    "\n",
    "\n",
    "def deletefuse(edges, verticies):\n",
    "    A = random.choice(verticies)\n",
    "    Aindex = verticies.index(A)\n",
    "    B = random.choice(edges[Aindex])\n",
    "    Bindex = verticies.index(B)\n",
    "\n",
    "    #go through the edges of B, and change the corresponding verticies, \n",
    "    #so that they point to A instead of B\n",
    "    for edge in edges[Bindex]:\n",
    "        for i in edges[verticies.index(edge)]:\n",
    "            if i == B:\n",
    "                \n",
    "    \n",
    "    #First have to think about how the indexs match up with the vertex numbers, because they don't\n",
    "    #match up well\n",
    "    \n",
    "    \n",
    "    \n",
    "    \n",
    "    #delete the first element in B, and append B to A\n",
    "    del(graph[B][0])\n",
    "    for item in graph[B]:\n",
    "        graph[Aindex].append(item)\n",
    "    \n",
    "    #get rid of self loops\n",
    "    for item in graph[Aindex]:\n",
    "        if item == B:\n",
    "            del(item)\n",
    "    \n",
    "    \n",
    "    return graph[graph.index(A)]\n"
   ]
  },
  {
   "cell_type": "code",
   "execution_count": 114,
   "metadata": {},
   "outputs": [
    {
     "data": {
      "text/plain": [
       "[5, 2, 3, 4]"
      ]
     },
     "execution_count": 114,
     "metadata": {},
     "output_type": "execute_result"
    }
   ],
   "source": [
    "# graph = opengraph()\n",
    "# deletefuse(graph)\n",
    "\n",
    "\n",
    "x = [1,2,3,4]\n",
    "\n",
    "for item in x:\n",
    "    if item == 1:\n",
    "         x[x.index(item)]= 5\n",
    "x"
   ]
  },
  {
   "cell_type": "code",
   "execution_count": 124,
   "metadata": {},
   "outputs": [
    {
     "name": "stdout",
     "output_type": "stream",
     "text": [
      "[1, 2, 3, 4]\n"
     ]
    }
   ],
   "source": [
    "testlist = [1,2,3,4]\n",
    "for item in testlist:\n",
    "    if item == 1:\n",
    "        del(item)\n",
    "    \n",
    "print testlist"
   ]
  },
  {
   "cell_type": "code",
   "execution_count": 25,
   "metadata": {},
   "outputs": [
    {
     "data": {
      "text/plain": [
       "'1\\t37\\t79\\t164\\t155\\t32\\t87\\t39\\t113\\t15\\t18\\t78\\t175\\t140\\t200\\t4\\t160\\t97\\t191\\t100\\t91\\t20\\t69\\t198\\t196\\t\\n'"
      ]
     },
     "execution_count": 25,
     "metadata": {},
     "output_type": "execute_result"
    }
   ],
   "source": [
    "graph[0]"
   ]
  }
 ],
 "metadata": {
  "kernelspec": {
   "display_name": "Python 2",
   "language": "python",
   "name": "python2"
  },
  "language_info": {
   "codemirror_mode": {
    "name": "ipython",
    "version": 2
   },
   "file_extension": ".py",
   "mimetype": "text/x-python",
   "name": "python",
   "nbconvert_exporter": "python",
   "pygments_lexer": "ipython2",
   "version": "2.7.14"
  }
 },
 "nbformat": 4,
 "nbformat_minor": 2
}
