{
 "cells": [
  {
   "cell_type": "markdown",
   "metadata": {},
   "source": [
    "# Algorithms Assignment 3\n",
    "\n",
    "## Min cut algorithm\n",
    "\n",
    "The object of this assignment is to calculate the minimum number of cuts to create 2 distinct groups from a given graph. This is to be done using the random contraction algorithm. The random contraction algorithm works by randomly selecting an edge, and \"fusing\" the verticies that it connected. Fusing the verticies amounts to deleting one of them, while adding the edges that were connected to it to the remaining vertex. After fusing the verticies any self looping edges are deleted. When there are two remaining verticies the remaining edges define a cut.\n",
    "\n",
    "By randomly selecting edges to contract on there is only ~1/n^2 chance that a minimum cut is chosen, however since computers are great, you can run the algorithm multiple times to increase the liklihood of finding a minimum cut.\n"
   ]
  },
  {
   "cell_type": "code",
   "execution_count": 756,
   "metadata": {},
   "outputs": [],
   "source": [
    "#reads in the file as a list of lists, deletes the last element of each list which is a \"\\n\" character \n",
    "#and then converts all the elements to integers\n",
    "\n",
    "def opengraph():\n",
    "    graph = []\n",
    "    with open(\"C:/Users/user/Documents/Algorithms/kargerMinCut.txt\") as j:\n",
    "        for line in j:\n",
    "            graph.append(line.split('\\t'))\n",
    "    #gets rid of \\n \n",
    "    for item in graph:\n",
    "        del(item[-1])\n",
    "\n",
    "    for i in range(len(graph)):\n",
    "        for j in range(len(graph[i])):\n",
    "            graph[i][j] = int(graph[i][j])\n",
    "    verticies = []\n",
    "    for item in graph:\n",
    "        verticies.append(item[0])\n",
    "        del(item[0])\n",
    "    edges = graph\n",
    "    verticies = [[i] for i in verticies]\n",
    "    return verticies, edges\n",
    "\n",
    "\n",
    "def deletefuse(edges, verticies):\n",
    "    A = random.choice(verticies)\n",
    "    Aindex = verticies.index(A)\n",
    "    B = random.choice(edges[Aindex])\n",
    "    Bindex = verticies.index(B)\n",
    "\n",
    "    #go through the edges of B, and change the corresponding verticies, \n",
    "    #so that they point to A instead of B\n",
    "    for i in range(len(edges[Bindex])):\n",
    "        fuse = verticies.index(edges[Bindex][i])\n",
    "        for j in range(len(edges[fuse])):\n",
    "            if edges[fuse][j] == B:\n",
    "                edges[fuse][j] = A\n",
    "\n",
    "                \n",
    "    \n",
    "    #First have to think about how the indexs match up with the vertex numbers, because they don't\n",
    "    #match up well  \n",
    "    #append the edges from B to A\n",
    "    del(verticies[Bindex])\n",
    "    edges[Aindex] += edges[Bindex]\n",
    "\n",
    "    del(edges[Bindex])\n",
    "    \n",
    "    #get rid of self loops\n",
    "#     for i in range(len(edges[Aindex])):\n",
    "#         if edges[Aindex][i] == A:\n",
    "#             del(edges[Aindex][i])\n",
    "    \n",
    "    \n",
    "    return edges, verticies\n"
   ]
  },
  {
   "cell_type": "code",
   "execution_count": 770,
   "metadata": {},
   "outputs": [],
   "source": [
    "#going to retry the random contraction algorithm, instead of deleting verticies and redirecting the edges, \n",
    "#I'm going to merge the verticies and then direct to the index that holds the vertex value\n",
    "\n",
    "def randcontract(verticies, edges):\n",
    "    #choose two verticies to merge\n",
    "    #each vertex is a list of the verticies that have been merged, choose a super vertex\n",
    "    while len(verticies)>2:\n",
    "        vertex_one = random.choice(verticies)\n",
    "        vertex_one_index = verticies.index(vertex_one)\n",
    "        vertex_two = random.choice(edges[vertex_one_index])\n",
    "        for vertex in verticies:\n",
    "            if vertex_two in vertex:\n",
    "                vertex_two_index = verticies.index(vertex)\n",
    "        #concatenate the choosen verticies and edges\n",
    "        verticies[vertex_one_index] += verticies[vertex_two_index]\n",
    "        edges[vertex_one_index] += edges[vertex_two_index]\n",
    "        #remove self loops\n",
    "#         for i in verticies[vertex_one_index]:\n",
    "#             j=0\n",
    "#             k = len(edges[vertex_one_index])\n",
    "#             while j < k:\n",
    "#                 if edges[vertex_one_index][j] == i:\n",
    "#                     del(edges[vertex_one_index][j])\n",
    "#                     k = k-1\n",
    "#                 else:      \n",
    "#                     j += 1\n",
    "        edges[vertex_one_index] = [i for i in edges[vertex_one_index] if i not in verticies[vertex_one_index]]\n",
    "        #delete the second vertex and its edges\n",
    "        del(verticies[vertex_two_index])\n",
    "        del(edges[vertex_two_index])\n",
    "    return len(edges[0])\n",
    "    \n",
    "    "
   ]
  },
  {
   "cell_type": "code",
   "execution_count": 46,
   "metadata": {},
   "outputs": [],
   "source": [
    "import random"
   ]
  },
  {
   "cell_type": "code",
   "execution_count": 768,
   "metadata": {},
   "outputs": [
    {
     "data": {
      "text/plain": [
       "[3, 4, 5, 6, 7]"
      ]
     },
     "execution_count": 768,
     "metadata": {},
     "output_type": "execute_result"
    }
   ],
   "source": [
    "\n",
    "test_verticies = [[1],[2],[3],[4]]\n",
    "\n",
    "test_edges = [[2,3],[1,3,4],[1,2],[2]]\n",
    "\n",
    "tester = [[1],[2],[3]]\n",
    "\n",
    "del(tester[0])\n",
    "tester1 = [1,2,3,4,5,6,7]\n",
    "tester2= [1,2]\n",
    "\n",
    "tester1 = [i for i in tester1 if i not in tester2]\n",
    "\n",
    "tester1\n",
    "\n",
    "\n",
    "\n"
   ]
  },
  {
   "cell_type": "code",
   "execution_count": 251,
   "metadata": {},
   "outputs": [],
   "source": [
    "randcontract(test_verticies, test_edges)"
   ]
  },
  {
   "cell_type": "code",
   "execution_count": 252,
   "metadata": {},
   "outputs": [
    {
     "data": {
      "text/plain": [
       "[[2, 1, 3], [4]]"
      ]
     },
     "execution_count": 252,
     "metadata": {},
     "output_type": "execute_result"
    }
   ],
   "source": [
    "test_verticies"
   ]
  },
  {
   "cell_type": "code",
   "execution_count": 491,
   "metadata": {},
   "outputs": [],
   "source": [
    "\n"
   ]
  },
  {
   "cell_type": "code",
   "execution_count": 479,
   "metadata": {},
   "outputs": [],
   "source": [
    "randcontract(verticies, edges)"
   ]
  },
  {
   "cell_type": "code",
   "execution_count": 771,
   "metadata": {},
   "outputs": [
    {
     "data": {
      "text/plain": [
       "[20, 17]"
      ]
     },
     "execution_count": 771,
     "metadata": {},
     "output_type": "execute_result"
    }
   ],
   "source": [
    "\n",
    "mincut = 1000000\n",
    "import profile\n",
    "def repeated_trials():\n",
    "    mincut = 100000000\n",
    "    mincuts = []\n",
    "    j=0\n",
    "    while j <100:\n",
    "        verticies1, edges1 = opengraph()\n",
    "\n",
    "\n",
    "        cut = randcontract(verticies1, edges1)\n",
    "\n",
    "        if cut < mincut:\n",
    "            mincut = cut\n",
    "            mincuts.append(cut)\n",
    "        j+=1\n",
    "    return mincuts\n",
    "repeated_trials()\n",
    "# profile.run('repeated_trials()')\n"
   ]
  }
 ],
 "metadata": {
  "kernelspec": {
   "display_name": "Python 2",
   "language": "python",
   "name": "python2"
  },
  "language_info": {
   "codemirror_mode": {
    "name": "ipython",
    "version": 2
   },
   "file_extension": ".py",
   "mimetype": "text/x-python",
   "name": "python",
   "nbconvert_exporter": "python",
   "pygments_lexer": "ipython2",
   "version": "2.7.14"
  }
 },
 "nbformat": 4,
 "nbformat_minor": 2
}
