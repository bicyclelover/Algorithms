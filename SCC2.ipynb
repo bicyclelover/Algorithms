{
 "cells": [
  {
   "cell_type": "markdown",
   "metadata": {},
   "source": [
    "Restarting the SCC notebook based around reading the file in as a dictionary"
   ]
  },
  {
   "cell_type": "code",
   "execution_count": 1,
   "metadata": {},
   "outputs": [],
   "source": [
    "def open_graph_dict():\n",
    "    #Creating a dictionary with all the blank key values so I can add to them without checking if they exist\n",
    "    graph_dict = {}\n",
    "    for i in range(875714):\n",
    "        graph_dict[i] = []\n",
    "    reverse_graph = {}\n",
    "    for i in range(875714):\n",
    "        reverse_graph[i] = []\n",
    "    #opening the text file and stripping the newlines and converting to integers, also decrementing all the values by one\n",
    "    with open(\"C:/Users/user/Documents/Algorithms/SCC.txt\") as j:\n",
    "        graph_rough = [i for i in j]\n",
    "    graph = [i.replace(\" \\n\",\"\") for i in graph_rough]\n",
    "    graph = [i.split() for i in graph]\n",
    "    graph = [[int(i)-1 for i in j] for j in graph]\n",
    "    #Giving the values from the graph to the dictionary\n",
    "    for i in graph:\n",
    "        graph_dict[i[0]].append(i[1])\n",
    "        reverse_graph[i[1]].append(i[0])\n",
    "    return graph_dict, reverse_graph\n"
   ]
  },
  {
   "cell_type": "code",
   "execution_count": 2,
   "metadata": {},
   "outputs": [],
   "source": [
    "#This is just a small graph to test to DFS_loop on\n",
    "test_graph = {0: [], 1: [], 2 : [], 3: [], 4: []}\n",
    "def bookkeeping():\n",
    "    tracker = [0 for i in range(875714)]\n",
    "    timer = [0]\n",
    "    leaders = {}\n",
    "    for i in range(875714):\n",
    "        leaders[i] = []\n",
    "    finishing_time = {}\n",
    "    for i in range(875714):\n",
    "        finishing_time[i] = []\n",
    "    return tracker, leaders, finishing_time, timer\n",
    "def DFS_loop(graph, v):\n",
    "    leader = v\n",
    "    stack = []\n",
    "    if tracker[v] == 0:\n",
    "        tracker[v] = 1\n",
    "        #I'm going to try keeping a stack of the nodes I've been to instead of the nodes I have to go to in the future,\n",
    "        #then I can check if the value for the key is [] in which case I can set the finishing_time for that node\n",
    "        stack.append(v)\n",
    "        while stack:\n",
    "            if graph[stack[-1]]:\n",
    "                v = graph[stack[-1]].pop()\n",
    "                if tracker[v] == 0:\n",
    "                    tracker [v] = 1\n",
    "                    stack.append(v)\n",
    "            else:\n",
    "                time = stack.pop()\n",
    "                finishing_time[timer[0]].append(time)\n",
    "                timer[0] += 1\n",
    "                leaders[time] = leader\n",
    "                \n",
    "                \n",
    "           \n",
    "        \n",
    "\n",
    "\n"
   ]
  },
  {
   "cell_type": "code",
   "execution_count": 56,
   "metadata": {},
   "outputs": [],
   "source": [
    "SCC = [0 for i in range(875714)]\n",
    "for i in leaders:\n",
    "    SCC[leaders[i]] += 1\n"
   ]
  },
  {
   "cell_type": "code",
   "execution_count": 42,
   "metadata": {},
   "outputs": [],
   "source": [
    "#Doing SCC with this\n",
    "#FIRST STEP: Open the reverse graph, and the graph\n",
    "graph, reverse_graph = open_graph_dict()\n",
    "tracker, leaders, finishing_time, timer = bookkeeping()\n",
    "#SECOND STEP: Run DFS on this loop, and then save the finishing times from it\n",
    "for i in reverse_graph:\n",
    "    DFS_loop(reverse_graph, i)\n",
    "second_order= finishing_time\n",
    "#Step three: Run DFS in the order from the first run\n",
    "tracker, leaders, finishing_time, timer = bookkeeping()\n",
    "\n",
    "for i in range(875713,-1,-1):\n",
    "    DFS_loop(graph, second_order[i][0])\n",
    "SCCS = leaders"
   ]
  },
  {
   "cell_type": "code",
   "execution_count": 48,
   "metadata": {},
   "outputs": [
    {
     "data": {
      "text/plain": [
       "211"
      ]
     },
     "execution_count": 48,
     "metadata": {},
     "output_type": "execute_result"
    }
   ],
   "source": [
    "SCC = [0 for i in range(875714)]\n",
    "zeros =0\n",
    "for i in SCCS:\n",
    "    SCC[SCCS[i]] += 1\n",
    "\n",
    "SCC.sort()\n",
    "SCC[-5]"
   ]
  },
  {
   "cell_type": "code",
   "execution_count": 40,
   "metadata": {},
   "outputs": [],
   "source": [
    "test_rev = {0:[],1:[0], 2:[0], 3:[0], 4:[0], 5:[0]}\n",
    "test_graph = {0:[1,2,3,4,5],1:[2], 2:[0], 3:[], 4:[], 5:[]}\n",
    "leaders = {0: [], 1: [], 2 : [], 3: [], 4: [], 5:[]}\n",
    "finishing_time = {0: [], 1: [], 2 : [], 3: [], 4: [],5:[]}\n",
    "tracker = [0 for i in range(6)]\n",
    "timer = [0]\n",
    "for i in test_rev:\n",
    "    DFS_loop(test_rev, i)\n",
    "second_order = finishing_time\n",
    "leaders = {0: [], 1: [], 2 : [], 3: [], 4: [], 5:[]}\n",
    "finishing_time = {0: [], 1: [], 2 : [], 3: [], 4: [],5:[]}\n",
    "tracker = [0 for i in range(6)]\n",
    "timer = [0]\n",
    "for i in range(5,-1,-1):\n",
    "    DFS_loop(test_graph, second_order[i][0])"
   ]
  },
  {
   "cell_type": "code",
   "execution_count": 41,
   "metadata": {},
   "outputs": [
    {
     "data": {
      "text/plain": [
       "{0: 2, 1: 2, 2: 2, 3: 3, 4: 4, 5: 5}"
      ]
     },
     "execution_count": 41,
     "metadata": {},
     "output_type": "execute_result"
    }
   ],
   "source": [
    "leaders"
   ]
  }
 ],
 "metadata": {
  "kernelspec": {
   "display_name": "Python 2",
   "language": "python",
   "name": "python2"
  },
  "language_info": {
   "codemirror_mode": {
    "name": "ipython",
    "version": 2
   },
   "file_extension": ".py",
   "mimetype": "text/x-python",
   "name": "python",
   "nbconvert_exporter": "python",
   "pygments_lexer": "ipython2",
   "version": "2.7.14"
  }
 },
 "nbformat": 4,
 "nbformat_minor": 2
}
