{
 "cells": [
  {
   "cell_type": "code",
   "execution_count": 82,
   "metadata": {},
   "outputs": [
    {
     "name": "stdout",
     "output_type": "stream",
     "text": [
      "[3]\n",
      "[0]\n",
      "[0, 3]\n",
      "[22]\n",
      "[0, 3, 22]\n",
      "[1]\n",
      "[2]\n",
      "[1, 2]\n",
      "[7]\n",
      "[1, 2, 7]\n",
      "[0, 1, 2, 3, 7, 22]\n",
      "[6]\n",
      "[5]\n",
      "[5, 6]\n",
      "[9]\n",
      "[5, 6, 9]\n",
      "[10]\n",
      "[13]\n",
      "[10, 13]\n",
      "[5, 6, 9, 10, 13]\n",
      "[0, 1, 2, 3, 5, 6, 7, 9, 10, 13, 22]\n"
     ]
    },
    {
     "data": {
      "text/plain": [
       "[0, 1, 2, 3, 5, 6, 7, 9, 10, 13, 22]"
      ]
     },
     "execution_count": 82,
     "metadata": {},
     "output_type": "execute_result"
    }
   ],
   "source": [
    "\n",
    "def merge_sort(x):\n",
    "    if len(x)%2 == 1:\n",
    "        half = len(x)/2+1\n",
    "        full = len(x)\n",
    "    else:\n",
    "        half = len(x)/2\n",
    "        full = len(x)\n",
    "    if len(x)>1:    \n",
    "        A =merge_sort(x[0:half])\n",
    "        B =merge_sort(x[half:full])\n",
    "    C=[0]*len(x)\n",
    "\n",
    "    if full == 1:\n",
    "        print x\n",
    "        return x\n",
    "    k = 0\n",
    "\n",
    "    while k < full:\n",
    "        if len(A)==0:\n",
    "            C[k] = B[0]\n",
    "            del B[0]\n",
    "            k+=1\n",
    "        elif len(B) == 0:\n",
    "            C[k] = A[0]\n",
    "            del A[0]\n",
    "            k+=1      \n",
    "        elif A[0]<=B[0]:\n",
    "            C[k] = A[0]\n",
    "            del A[0]\n",
    "            k+=1\n",
    "        elif B[0]<A[0]:\n",
    "            C[k] = B[0]\n",
    "            del B[0]\n",
    "            k+=1\n",
    "    print C  \n",
    "    return C\n",
    "\n",
    "\n",
    "merge_sort([3,0,22,1,2,7,6,5,9,10,13])\n",
    "\n",
    "        \n",
    "    "
   ]
  },
  {
   "cell_type": "code",
   "execution_count": 73,
   "metadata": {},
   "outputs": [
    {
     "data": {
      "text/plain": [
       "1"
      ]
     },
     "execution_count": 73,
     "metadata": {},
     "output_type": "execute_result"
    }
   ],
   "source": [
    "x=[1,2,3]\n",
    "len(x)/2"
   ]
  }
 ],
 "metadata": {
  "kernelspec": {
   "display_name": "Python 2",
   "language": "python",
   "name": "python2"
  },
  "language_info": {
   "codemirror_mode": {
    "name": "ipython",
    "version": 2
   },
   "file_extension": ".py",
   "mimetype": "text/x-python",
   "name": "python",
   "nbconvert_exporter": "python",
   "pygments_lexer": "ipython2",
   "version": "2.7.14"
  }
 },
 "nbformat": 4,
 "nbformat_minor": 2
}
