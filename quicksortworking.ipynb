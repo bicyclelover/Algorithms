{
 "cells": [
  {
   "cell_type": "code",
   "execution_count": 84,
   "metadata": {
    "collapsed": true
   },
   "outputs": [],
   "source": [
    "def partition(A, lowindex, highindex):\n",
    "    if highindex - lowindex <= 0:\n",
    "        return lowindex\n",
    "    pivot = A[lowindex]\n",
    "    j = lowindex+1\n",
    "    for i in range(lowindex+1, highindex+1):\n",
    "        if A[i]<=pivot:\n",
    "            k = A[i]\n",
    "            A[i] = A[j]\n",
    "            A[j]=k\n",
    "            j += 1\n",
    "    A[lowindex]=A[j-1]\n",
    "    A[j-1] = pivot\n",
    "    return j-1\n",
    "\n",
    "def partition_final_element(A, lowindex, highindex):\n",
    "    if highindex - lowindex <= 0:\n",
    "        return lowindex\n",
    "    pivot = A[highindex]\n",
    "    A[highindex] = A[lowindex]\n",
    "    A[lowindex] = pivot\n",
    "    j = lowindex+1\n",
    "    for i in range(lowindex+1, highindex+1):\n",
    "        if A[i]<=pivot:\n",
    "            k = A[i]\n",
    "            A[i] = A[j]\n",
    "            A[j]=k\n",
    "            j += 1\n",
    "    A[lowindex]=A[j-1]\n",
    "    A[j-1] = pivot\n",
    "    return j-1\n",
    "\n",
    "def partition_median(A, lowindex,highindex):\n",
    "#     not implemented, going to leave for another day, just takes the first, last and middle element\n",
    "#     and pivots around the median of those, so not super exciting\n",
    "    if highindex - lowindex <= 0:\n",
    "        return lowindex\n",
    "    pivot = A[highindex]\n",
    "    A[highindex] = A[lowindex]\n",
    "    A[lowindex] = pivot\n",
    "    j = lowindex+1\n",
    "    for i in range(lowindex+1, highindex+1):\n",
    "        if A[i]<=pivot:\n",
    "            k = A[i]\n",
    "            A[i] = A[j]\n",
    "            A[j]=k\n",
    "            j += 1\n",
    "    A[lowindex]=A[j-1]\n",
    "    A[j-1] = pivot\n",
    "    return j-1\n",
    "\n",
    "\n",
    "def quicksort(A, lowindex, highindex):\n",
    "    if highindex - lowindex <=0:\n",
    "        return 0\n",
    "    else:\n",
    "        comparisons = highindex-lowindex\n",
    "#         print \"ehhhhhh\"\n",
    "        last_pivot = partition_final_element(A, lowindex, highindex)\n",
    "        right_low = last_pivot+1\n",
    "        left_high = last_pivot-1\n",
    "        comparisons += quicksort(A, lowindex, left_high)\n",
    "        comparisons += quicksort(A, right_low, highindex)\n",
    "#         quicksort(A, lowindex, left_high)\n",
    "#         quicksort(A, right_low, highindex)\n",
    "        return comparisons\n",
    "        \n",
    "        "
   ]
  },
  {
   "cell_type": "code",
   "execution_count": 85,
   "metadata": {},
   "outputs": [
    {
     "data": {
      "text/plain": [
       "10"
      ]
     },
     "execution_count": 85,
     "metadata": {},
     "output_type": "execute_result"
    }
   ],
   "source": [
    "A = [5,4,3,2,1]\n",
    "quicksort(A, 0, len(A)-1)\n"
   ]
  },
  {
   "cell_type": "code",
   "execution_count": 86,
   "metadata": {},
   "outputs": [],
   "source": [
    "with open('C:/Users/user/Documents/Algorithms/QuickSort.txt') as f:\n",
    "    integerarray = f.readlines()\n",
    "for i in range(len(integerarray)):\n",
    "    integerarray[i] = int(integerarray[i])"
   ]
  },
  {
   "cell_type": "code",
   "execution_count": 87,
   "metadata": {},
   "outputs": [
    {
     "data": {
      "text/plain": [
       "164123"
      ]
     },
     "execution_count": 87,
     "metadata": {},
     "output_type": "execute_result"
    }
   ],
   "source": [
    "quicksort(integerarray, 0 ,len(integerarray)-1)"
   ]
  },
  {
   "cell_type": "code",
   "execution_count": 26,
   "metadata": {},
   "outputs": [
    {
     "data": {
      "text/plain": [
       "1000"
      ]
     },
     "execution_count": 26,
     "metadata": {},
     "output_type": "execute_result"
    }
   ],
   "source": [
    "import sys\n",
    "sys.setrecursionlimit(1000)\n",
    "sys.getrecursionlimit()"
   ]
  },
  {
   "cell_type": "code",
   "execution_count": 88,
   "metadata": {},
   "outputs": [
    {
     "data": {
      "text/plain": [
       "[1001,\n",
       " 1002,\n",
       " 1003,\n",
       " 1004,\n",
       " 1005,\n",
       " 1006,\n",
       " 1007,\n",
       " 1008,\n",
       " 1009,\n",
       " 1010,\n",
       " 1011,\n",
       " 1012,\n",
       " 1013,\n",
       " 1014,\n",
       " 1015,\n",
       " 1016,\n",
       " 1017,\n",
       " 1018,\n",
       " 1019,\n",
       " 1020,\n",
       " 1021,\n",
       " 1022,\n",
       " 1023,\n",
       " 1024,\n",
       " 1025,\n",
       " 1026,\n",
       " 1027,\n",
       " 1028,\n",
       " 1029,\n",
       " 1030,\n",
       " 1031,\n",
       " 1032,\n",
       " 1033,\n",
       " 1034,\n",
       " 1035,\n",
       " 1036,\n",
       " 1037,\n",
       " 1038,\n",
       " 1039,\n",
       " 1040,\n",
       " 1041,\n",
       " 1042,\n",
       " 1043,\n",
       " 1044,\n",
       " 1045,\n",
       " 1046,\n",
       " 1047,\n",
       " 1048,\n",
       " 1049,\n",
       " 1050,\n",
       " 1051,\n",
       " 1052,\n",
       " 1053,\n",
       " 1054,\n",
       " 1055,\n",
       " 1056,\n",
       " 1057,\n",
       " 1058,\n",
       " 1059,\n",
       " 1060,\n",
       " 1061,\n",
       " 1062,\n",
       " 1063,\n",
       " 1064,\n",
       " 1065,\n",
       " 1066,\n",
       " 1067,\n",
       " 1068,\n",
       " 1069,\n",
       " 1070,\n",
       " 1071,\n",
       " 1072,\n",
       " 1073,\n",
       " 1074,\n",
       " 1075,\n",
       " 1076,\n",
       " 1077,\n",
       " 1078,\n",
       " 1079,\n",
       " 1080,\n",
       " 1081,\n",
       " 1082,\n",
       " 1083,\n",
       " 1084,\n",
       " 1085,\n",
       " 1086,\n",
       " 1087,\n",
       " 1088,\n",
       " 1089,\n",
       " 1090,\n",
       " 1091,\n",
       " 1092,\n",
       " 1093,\n",
       " 1094,\n",
       " 1095,\n",
       " 1096,\n",
       " 1097,\n",
       " 1098,\n",
       " 1099,\n",
       " 1100]"
      ]
     },
     "execution_count": 88,
     "metadata": {},
     "output_type": "execute_result"
    }
   ],
   "source": [
    "integerarray[1000:1100]"
   ]
  }
 ],
 "metadata": {
  "kernelspec": {
   "display_name": "Python 2",
   "language": "python",
   "name": "python2"
  },
  "language_info": {
   "codemirror_mode": {
    "name": "ipython",
    "version": 2
   },
   "file_extension": ".py",
   "mimetype": "text/x-python",
   "name": "python",
   "nbconvert_exporter": "python",
   "pygments_lexer": "ipython2",
   "version": "2.7.14"
  }
 },
 "nbformat": 4,
 "nbformat_minor": 2
}
