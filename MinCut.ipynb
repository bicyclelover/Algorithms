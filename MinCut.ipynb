{
 "cells": [
  {
   "cell_type": "markdown",
   "metadata": {},
   "source": [
    "# Algorithms Assignment 3\n",
    "\n",
    "## Min cut algorithm\n",
    "\n",
    "The object of this assignment is to calculate the minimum number of cuts to create 2 distinct groups from a given graph. This is to be done using the random contraction algorithm. The random contraction algorithm works by randomly selecting an edge, and \"fusing\" the verticies that it connected. Fusing the verticies amounts to deleting one of them, while adding the edges that were connected to it to the remaining vertex. After fusing the verticies any self looping edges are deleted. When there are two remaining verticies the remaining edges define a cut.\n",
    "\n",
    "By randomly selecting edges to contract on there is only ~1/n^2 chance that a minimum cut is chosen, however since computers are great, you can run the algorithm multiple times to increase the liklihood of finding a minimum cut.\n"
   ]
  },
  {
   "cell_type": "code",
   "execution_count": 86,
   "metadata": {},
   "outputs": [],
   "source": [
    "#reads in the file as a list of lists, deletes the last element of each list which is a \"\\n\" character \n",
    "#and then converts all the elements to integers\n",
    "import random\n",
    "def opengraph():\n",
    "    graph = []\n",
    "    with open(\"C:/Users/user/Documents/Algorithms/kargerMinCut.txt\") as j:\n",
    "        for line in j:\n",
    "            graph.append(line.split('\\t'))\n",
    "\n",
    "    for item in graph:\n",
    "        del(item[-1])\n",
    "\n",
    "    for i in range(len(graph)):\n",
    "        for j in range(len(graph[i])):\n",
    "            graph[i][j] = int(graph[i][j])\n",
    "    verticies = []\n",
    "    for item in graph:\n",
    "        verticies.append(item[0])\n",
    "        del(item[0])\n",
    "    edges = graph\n",
    "    return edges, verticies\n",
    "\n",
    "\n",
    "def deletefuse(edges, verticies):\n",
    "    A = random.choice(verticies)\n",
    "    Aindex = verticies.index(A)\n",
    "    B = random.choice(edges[Aindex])\n",
    "    Bindex = verticies.index(B)\n",
    "\n",
    "    #go through the edges of B, and change the corresponding verticies, \n",
    "    #so that they point to A instead of B\n",
    "    for i in range(len(edges[Bindex])):\n",
    "        fuse = verticies.index(edges[Bindex][i])\n",
    "        for j in range(len(edges[fuse])):\n",
    "            if edges[fuse][j] == B:\n",
    "                edges[fuse][j] = A\n",
    "\n",
    "                \n",
    "    \n",
    "    #First have to think about how the indexs match up with the vertex numbers, because they don't\n",
    "    #match up well  \n",
    "    #append the edges from B to A\n",
    "    del(verticies[Bindex])\n",
    "    for item in edges[Bindex]:\n",
    "        edges[Aindex].append(item)\n",
    "\n",
    "    del(edges[Bindex])\n",
    "    \n",
    "    #get rid of self loops\n",
    "#     for i in range(len(edges[Aindex])):\n",
    "#         if edges[Aindex][i] == A:\n",
    "#             del(edges[Aindex][i])\n",
    "    \n",
    "    \n",
    "    return edges, verticies\n"
   ]
  },
  {
   "cell_type": "code",
   "execution_count": 5,
   "metadata": {},
   "outputs": [
    {
     "data": {
      "text/plain": [
       "[2, 3, 4]"
      ]
     },
     "execution_count": 5,
     "metadata": {},
     "output_type": "execute_result"
    }
   ],
   "source": [
    "testlist = [1,2,3,4]\n",
    "\n",
    "test = [i for i in testlist if i != 1]\n",
    "test"
   ]
  },
  {
   "cell_type": "code",
   "execution_count": 90,
   "metadata": {},
   "outputs": [
    {
     "ename": "KeyboardInterrupt",
     "evalue": "",
     "output_type": "error",
     "traceback": [
      "\u001b[1;31m\u001b[0m",
      "\u001b[1;31mKeyboardInterrupt\u001b[0mTraceback (most recent call last)",
      "\u001b[1;32m<ipython-input-90-fc6223f96070>\u001b[0m in \u001b[0;36m<module>\u001b[1;34m()\u001b[0m\n\u001b[0;32m      3\u001b[0m \u001b[1;33m\u001b[0m\u001b[0m\n\u001b[0;32m      4\u001b[0m \u001b[1;32mwhile\u001b[0m \u001b[0mlen\u001b[0m\u001b[1;33m(\u001b[0m\u001b[0mverticies\u001b[0m\u001b[1;33m)\u001b[0m\u001b[1;33m>\u001b[0m\u001b[1;36m2\u001b[0m\u001b[1;33m:\u001b[0m\u001b[1;33m\u001b[0m\u001b[0m\n\u001b[1;32m----> 5\u001b[1;33m     \u001b[0medges\u001b[0m\u001b[1;33m,\u001b[0m \u001b[0mverticies\u001b[0m \u001b[1;33m=\u001b[0m \u001b[0mdeletefuse\u001b[0m\u001b[1;33m(\u001b[0m\u001b[0medges\u001b[0m\u001b[1;33m,\u001b[0m \u001b[0mverticies\u001b[0m\u001b[1;33m)\u001b[0m\u001b[1;33m\u001b[0m\u001b[0m\n\u001b[0m\u001b[0;32m      6\u001b[0m \u001b[1;31m# len(verticies)\u001b[0m\u001b[1;33m\u001b[0m\u001b[1;33m\u001b[0m\u001b[0m\n\u001b[0;32m      7\u001b[0m \u001b[1;33m\u001b[0m\u001b[0m\n",
      "\u001b[1;32m<ipython-input-86-647af44c9f7e>\u001b[0m in \u001b[0;36mdeletefuse\u001b[1;34m(edges, verticies)\u001b[0m\n\u001b[0;32m     43\u001b[0m     \u001b[1;32mdel\u001b[0m\u001b[1;33m(\u001b[0m\u001b[0mverticies\u001b[0m\u001b[1;33m[\u001b[0m\u001b[0mBindex\u001b[0m\u001b[1;33m]\u001b[0m\u001b[1;33m)\u001b[0m\u001b[1;33m\u001b[0m\u001b[0m\n\u001b[0;32m     44\u001b[0m     \u001b[1;32mfor\u001b[0m \u001b[0mitem\u001b[0m \u001b[1;32min\u001b[0m \u001b[0medges\u001b[0m\u001b[1;33m[\u001b[0m\u001b[0mBindex\u001b[0m\u001b[1;33m]\u001b[0m\u001b[1;33m:\u001b[0m\u001b[1;33m\u001b[0m\u001b[0m\n\u001b[1;32m---> 45\u001b[1;33m         \u001b[0medges\u001b[0m\u001b[1;33m[\u001b[0m\u001b[0mAindex\u001b[0m\u001b[1;33m]\u001b[0m\u001b[1;33m.\u001b[0m\u001b[0mappend\u001b[0m\u001b[1;33m(\u001b[0m\u001b[0mitem\u001b[0m\u001b[1;33m)\u001b[0m\u001b[1;33m\u001b[0m\u001b[0m\n\u001b[0m\u001b[0;32m     46\u001b[0m \u001b[1;33m\u001b[0m\u001b[0m\n\u001b[0;32m     47\u001b[0m     \u001b[1;32mdel\u001b[0m\u001b[1;33m(\u001b[0m\u001b[0medges\u001b[0m\u001b[1;33m[\u001b[0m\u001b[0mBindex\u001b[0m\u001b[1;33m]\u001b[0m\u001b[1;33m)\u001b[0m\u001b[1;33m\u001b[0m\u001b[0m\n",
      "\u001b[1;31mKeyboardInterrupt\u001b[0m: "
     ]
    }
   ],
   "source": [
    "edges, verticies = opengraph()\n",
    "\n",
    "\n",
    "while len(verticies)>2:\n",
    "    edges, verticies = deletefuse(edges, verticies)\n",
    "# len(verticies)\n",
    "\n",
    "\n",
    "\n"
   ]
  },
  {
   "cell_type": "code",
   "execution_count": 94,
   "metadata": {},
   "outputs": [
    {
     "data": {
      "text/plain": [
       "[185,\n",
       " 155,\n",
       " 14,\n",
       " 99,\n",
       " 108,\n",
       " 144,\n",
       " 164,\n",
       " 53,\n",
       " 140,\n",
       " 25,\n",
       " 100,\n",
       " 133,\n",
       " 9,\n",
       " 25,\n",
       " 191,\n",
       " 46,\n",
       " 20,\n",
       " 99,\n",
       " 144,\n",
       " 39,\n",
       " 62,\n",
       " 131,\n",
       " 145,\n",
       " 133,\n",
       " 174,\n",
       " 27,\n",
       " 39]"
      ]
     },
     "execution_count": 94,
     "metadata": {},
     "output_type": "execute_result"
    }
   ],
   "source": [
    "edges[3]\n"
   ]
  },
  {
   "cell_type": "code",
   "execution_count": 85,
   "metadata": {},
   "outputs": [
    {
     "name": "stdout",
     "output_type": "stream",
     "text": [
      "1\n",
      "2\n",
      "3\n",
      "4\n",
      "5\n"
     ]
    }
   ],
   "source": [
    "tester = [[2,3,4],[1,2,3,4,5]]\n",
    "for i in range(len(tester[1])):\n",
    "    print tester[1][i]"
   ]
  }
 ],
 "metadata": {
  "kernelspec": {
   "display_name": "Python 2",
   "language": "python",
   "name": "python2"
  },
  "language_info": {
   "codemirror_mode": {
    "name": "ipython",
    "version": 2
   },
   "file_extension": ".py",
   "mimetype": "text/x-python",
   "name": "python",
   "nbconvert_exporter": "python",
   "pygments_lexer": "ipython2",
   "version": "2.7.14"
  }
 },
 "nbformat": 4,
 "nbformat_minor": 2
}
